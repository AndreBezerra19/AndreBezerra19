{
  "cells": [
    {
      "cell_type": "markdown",
      "metadata": {
        "colab_type": "text",
        "id": "view-in-github"
      },
      "source": [
        "<a href=\"https://colab.research.google.com/github/AndreBezerra19/AndreBezerra19/blob/main/CPV.ipynb\" target=\"_parent\"><img src=\"https://colab.research.google.com/assets/colab-badge.svg\" alt=\"Open In Colab\"/></a>"
      ]
    },
    {
      "cell_type": "markdown",
      "metadata": {
        "id": "18XU0Jh6Kdp2"
      },
      "source": [
        "# Processo de atualização do arquivo resumo do CPV da Alunorte"
      ]
    },
    {
      "cell_type": "code",
      "execution_count": 10,
      "metadata": {
        "id": "RETjYJA-KJU0"
      },
      "outputs": [],
      "source": [
        "# import the libraries dependency\n",
        "import pandas as pd\n",
        "import numpy as np\n",
        "import glob\n",
        "\n",
        "import os, shutil\n",
        "from timeit import default_timer as timer\n",
        "from datetime import datetime, timedelta\n",
        "\n",
        "start = timer()"
      ]
    },
    {
      "cell_type": "code",
      "execution_count": 11,
      "metadata": {
        "colab": {
          "base_uri": "https://localhost:8080/"
        },
        "id": "gSFOLHRGj9c-",
        "outputId": "ca149c90-25bd-40e5-c4ab-8a9b779b421d"
      },
      "outputs": [
        {
          "name": "stdout",
          "output_type": "stream",
          "text": [
            "Collecting pyxlsb\n",
            "  Downloading pyxlsb-1.0.9-py2.py3-none-any.whl (23 kB)\n",
            "Installing collected packages: pyxlsb\n",
            "Successfully installed pyxlsb-1.0.9\n"
          ]
        }
      ],
      "source": [
        "pip install pyxlsb"
      ]
    },
    {
      "cell_type": "markdown",
      "metadata": {
        "id": "PRHVEGMhKPiI"
      },
      "source": [
        "## Variaveis"
      ]
    },
    {
      "cell_type": "code",
      "execution_count": 12,
      "metadata": {
        "colab": {
          "base_uri": "https://localhost:8080/"
        },
        "id": "XXpU2qWGKXOt",
        "outputId": "29caff7b-604e-4594-80dd-7711efcf798b"
      },
      "outputs": [
        {
          "name": "stdout",
          "output_type": "stream",
          "text": [
            "Period considered 202204\n",
            "Path to CC file:  /content/drive/MyDrive/Colab Notebooks/CPV/De_Para_CC.xlsx\n",
            "Path to Conta file:  /content/drive/MyDrive/Colab Notebooks/CPV/De_Para_Conta.xlsx\n",
            "Path to DP IW39 file:  /content/drive/MyDrive/Colab Notebooks/CPV/De_Para_IW39.xlsx\n",
            "Path to Condições file:  /content/drive/MyDrive/Colab Notebooks/CPV/Condições.xlsx\n",
            "Path to KSB1 file:  /content/drive/MyDrive/Colab Notebooks/CPV/KSB1.xlsb\n",
            "Path to KOB1 file:  /content/drive/MyDrive/Colab Notebooks/CPV/KOB1.xlsx\n",
            "Path to IW39 file:  /content/drive/MyDrive/Colab Notebooks/CPV/IW39.XLSX\n"
          ]
        }
      ],
      "source": [
        "path_CC = '/content/drive/MyDrive/Colab Notebooks/CPV/De_Para_CC.xlsx'\n",
        "path_Conta = '/content/drive/MyDrive/Colab Notebooks/CPV/De_Para_Conta.xlsx'\n",
        "path_DP_IW39 = '/content/drive/MyDrive/Colab Notebooks/CPV/De_Para_IW39.xlsx'\n",
        "path_Condicoes = '/content/drive/MyDrive/Colab Notebooks/CPV/Condições.xlsx'\n",
        "path_KSB1 = '/content/drive/MyDrive/Colab Notebooks/CPV/KSB1.xlsb'\n",
        "path_KOB1 = '/content/drive/MyDrive/Colab Notebooks/CPV/KOB1.xlsx'\n",
        "path_IW39 = '/content/drive/MyDrive/Colab Notebooks/CPV/IW39.XLSX'\n",
        "\n",
        "# get the current period in the format AAAAMM numeric\n",
        "day = int(datetime.today().strftime('%d'))\n",
        "if day<10:\n",
        "    today = datetime.today()\n",
        "    first = today.replace(day=1)\n",
        "    lastMonth = first - timedelta(days=1)\n",
        "    period = int(lastMonth.strftime(\"%Y%m\"))\n",
        "else:\n",
        "    period = int(datetime.today().strftime('%Y%m'))\n",
        "\n",
        "# print values\n",
        "print(\"Period considered\", period)\n",
        "print(\"Path to CC file: \", path_CC)\n",
        "print(\"Path to Conta file: \", path_Conta)\n",
        "print(\"Path to DP IW39 file: \", path_DP_IW39)\n",
        "print(\"Path to Condições file: \", path_Condicoes)\n",
        "print(\"Path to KSB1 file: \", path_KSB1)\n",
        "print(\"Path to KOB1 file: \", path_KOB1)\n",
        "print(\"Path to IW39 file: \", path_IW39)"
      ]
    },
    {
      "cell_type": "markdown",
      "metadata": {
        "id": "rqjxfYPNKuaM"
      },
      "source": [
        "## ETL KSB1"
      ]
    },
    {
      "cell_type": "code",
      "execution_count": 13,
      "metadata": {
        "id": "hBBQ1FRxK1eP"
      },
      "outputs": [],
      "source": [
        "path = path_KSB1\n",
        "KSB1 = pd.read_excel(path)\n",
        "KSB1.columns = map(str.upper, KSB1.columns)\n",
        "KSB1 = KSB1.add_prefix('CPV1_')\n",
        "KSB1.columns = KSB1.columns.str.replace(' ', '_')\n",
        "KSB1.columns = KSB1.columns.str.replace('[^A-Za-z_0-9]+', '', regex=True)"
      ]
    },
    {
      "cell_type": "markdown",
      "metadata": {
        "id": "5CGQ6zPjK7KG"
      },
      "source": [
        "## ETL KOB1"
      ]
    },
    {
      "cell_type": "code",
      "execution_count": 14,
      "metadata": {
        "id": "tYwb6xwXK9ZB"
      },
      "outputs": [],
      "source": [
        "path = path_KOB1\n",
        "KOB1 = pd.read_excel(path)\n",
        "KOB1.columns = map(str.upper, KOB1.columns)\n",
        "KOB1 = KSB1.add_prefix('CPV2_')\n",
        "KOB1.columns = KOB1.columns.str.replace(' ', '_')\n",
        "KOB1.columns = KOB1.columns.str.replace('[^A-Za-z_0-9]+', '', regex=True)"
      ]
    },
    {
      "cell_type": "markdown",
      "metadata": {
        "id": "dzbW0wruLAZ_"
      },
      "source": [
        "## ETL IW39"
      ]
    },
    {
      "cell_type": "code",
      "execution_count": 15,
      "metadata": {
        "id": "wJ-aoCADLC2g"
      },
      "outputs": [],
      "source": [
        "path = path_IW39\n",
        "IW39 = pd.read_excel(path)\n",
        "IW39.columns = map(str.upper, IW39.columns)\n",
        "IW39 = KSB1.add_prefix('CPV3_')\n",
        "IW39.columns = IW39.columns.str.replace(' ', '_')\n",
        "IW39.columns = IW39.columns.str.replace('[^A-Za-z_0-9]+', '', regex=True)"
      ]
    },
    {
      "cell_type": "markdown",
      "metadata": {
        "id": "M6lHhpUsLFkw"
      },
      "source": [
        "## Definir base\n",
        "###### Definida com a criação de uma view unificada entre KOB1 e KSB1"
      ]
    }
  ],
  "metadata": {
    "colab": {
      "authorship_tag": "ABX9TyNj1/X0egxDli/WrQcQnQt7",
      "include_colab_link": true,
      "mount_file_id": "1GBQ7-o9uTXbAtQWNQOrwZ3-cweKPeflj",
      "name": "CPV.ipynb",
      "provenance": []
    },
    "kernelspec": {
      "display_name": "Python 3",
      "name": "python3"
    },
    "language_info": {
      "name": "python"
    }
  },
  "nbformat": 4,
  "nbformat_minor": 0
}
