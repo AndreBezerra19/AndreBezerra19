{
  "nbformat": 4,
  "nbformat_minor": 0,
  "metadata": {
    "colab": {
      "name": "CPV.ipynb",
      "provenance": [],
      "mount_file_id": "1GBQ7-o9uTXbAtQWNQOrwZ3-cweKPeflj",
      "authorship_tag": "ABX9TyNj1/X0egxDli/WrQcQnQt7",
      "include_colab_link": true
    },
    "kernelspec": {
      "name": "python3",
      "display_name": "Python 3"
    },
    "language_info": {
      "name": "python"
    }
  },
  "cells": [
    {
      "cell_type": "markdown",
      "metadata": {
        "id": "view-in-github",
        "colab_type": "text"
      },
      "source": [
        "<a href=\"https://colab.research.google.com/github/AndreBezerra19/AndreBezerra19/blob/main/CPV.ipynb\" target=\"_parent\"><img src=\"https://colab.research.google.com/assets/colab-badge.svg\" alt=\"Open In Colab\"/></a>"
      ]
    },
    {
      "cell_type": "markdown",
      "source": [
        "# Processo de atualização do arquivo resumo do CPV da Alunorte"
      ],
      "metadata": {
        "id": "18XU0Jh6Kdp2"
      }
    },
    {
      "cell_type": "code",
      "source": [
        "# import the libraries dependency\n",
        "import pandas as pd\n",
        "import numpy as np\n",
        "import glob\n",
        "\n",
        "import os, shutil\n",
        "from timeit import default_timer as timer\n",
        "from datetime import datetime, timedelta\n",
        "\n",
        "start = timer()"
      ],
      "metadata": {
        "id": "RETjYJA-KJU0"
      },
      "execution_count": 10,
      "outputs": []
    },
    {
      "cell_type": "code",
      "source": [
        "pip install pyxlsb"
      ],
      "metadata": {
        "colab": {
          "base_uri": "https://localhost:8080/"
        },
        "id": "gSFOLHRGj9c-",
        "outputId": "ca149c90-25bd-40e5-c4ab-8a9b779b421d"
      },
      "execution_count": 11,
      "outputs": [
        {
          "output_type": "stream",
          "name": "stdout",
          "text": [
            "Collecting pyxlsb\n",
            "  Downloading pyxlsb-1.0.9-py2.py3-none-any.whl (23 kB)\n",
            "Installing collected packages: pyxlsb\n",
            "Successfully installed pyxlsb-1.0.9\n"
          ]
        }
      ]
    },
    {
      "cell_type": "markdown",
      "source": [
        "## Variaveis"
      ],
      "metadata": {
        "id": "PRHVEGMhKPiI"
      }
    },
    {
      "cell_type": "code",
      "source": [
        "path_CC = '/content/drive/MyDrive/Colab Notebooks/CPV/De_Para_CC.xlsx'\n",
        "path_Conta = '/content/drive/MyDrive/Colab Notebooks/CPV/De_Para_Conta.xlsx'\n",
        "path_DP_IW39 = '/content/drive/MyDrive/Colab Notebooks/CPV/De_Para_IW39.xlsx'\n",
        "path_Condicoes = '/content/drive/MyDrive/Colab Notebooks/CPV/Condições.xlsx'\n",
        "path_KSB1 = '/content/drive/MyDrive/Colab Notebooks/CPV/KSB1.xlsb'\n",
        "path_KOB1 = '/content/drive/MyDrive/Colab Notebooks/CPV/KOB1.xlsx'\n",
        "path_IW39 = '/content/drive/MyDrive/Colab Notebooks/CPV/IW39.XLSX'\n",
        "\n",
        "# get the current period in the format AAAAMM numeric\n",
        "day = int(datetime.today().strftime('%d'))\n",
        "if day<10:\n",
        "    today = datetime.today()\n",
        "    first = today.replace(day=1)\n",
        "    lastMonth = first - timedelta(days=1)\n",
        "    period = int(lastMonth.strftime(\"%Y%m\"))\n",
        "else:\n",
        "    period = int(datetime.today().strftime('%Y%m'))\n",
        "\n",
        "# print values\n",
        "print(\"Period considered\", period)\n",
        "print(\"Path to CC file: \", path_CC)\n",
        "print(\"Path to Conta file: \", path_Conta)\n",
        "print(\"Path to DP IW39 file: \", path_DP_IW39)\n",
        "print(\"Path to Condições file: \", path_Condicoes)\n",
        "print(\"Path to KSB1 file: \", path_KSB1)\n",
        "print(\"Path to KOB1 file: \", path_KOB1)\n",
        "print(\"Path to IW39 file: \", path_IW39)"
      ],
      "metadata": {
        "id": "XXpU2qWGKXOt",
        "colab": {
          "base_uri": "https://localhost:8080/"
        },
        "outputId": "29caff7b-604e-4594-80dd-7711efcf798b"
      },
      "execution_count": 12,
      "outputs": [
        {
          "output_type": "stream",
          "name": "stdout",
          "text": [
            "Period considered 202204\n",
            "Path to CC file:  /content/drive/MyDrive/Colab Notebooks/CPV/De_Para_CC.xlsx\n",
            "Path to Conta file:  /content/drive/MyDrive/Colab Notebooks/CPV/De_Para_Conta.xlsx\n",
            "Path to DP IW39 file:  /content/drive/MyDrive/Colab Notebooks/CPV/De_Para_IW39.xlsx\n",
            "Path to Condições file:  /content/drive/MyDrive/Colab Notebooks/CPV/Condições.xlsx\n",
            "Path to KSB1 file:  /content/drive/MyDrive/Colab Notebooks/CPV/KSB1.xlsb\n",
            "Path to KOB1 file:  /content/drive/MyDrive/Colab Notebooks/CPV/KOB1.xlsx\n",
            "Path to IW39 file:  /content/drive/MyDrive/Colab Notebooks/CPV/IW39.XLSX\n"
          ]
        }
      ]
    },
    {
      "cell_type": "markdown",
      "source": [
        "## ETL KSB1"
      ],
      "metadata": {
        "id": "rqjxfYPNKuaM"
      }
    },
    {
      "cell_type": "code",
      "source": [
        "path = path_KSB1\n",
        "KSB1 = pd.read_excel(path)\n",
        "KSB1.columns = map(str.upper, KSB1.columns)\n",
        "KSB1 = KSB1.add_prefix('CPV1_')\n",
        "KSB1.columns = KSB1.columns.str.replace(' ', '_')\n",
        "KSB1.columns = KSB1.columns.str.replace('[^A-Za-z_0-9]+', '', regex=True)"
      ],
      "metadata": {
        "id": "hBBQ1FRxK1eP"
      },
      "execution_count": 13,
      "outputs": []
    },
    {
      "cell_type": "markdown",
      "source": [
        "## ETL KOB1"
      ],
      "metadata": {
        "id": "5CGQ6zPjK7KG"
      }
    },
    {
      "cell_type": "code",
      "source": [
        "path = path_KOB1\n",
        "KOB1 = pd.read_excel(path)\n",
        "KOB1.columns = map(str.upper, KOB1.columns)\n",
        "KOB1 = KSB1.add_prefix('CPV2_')\n",
        "KOB1.columns = KOB1.columns.str.replace(' ', '_')\n",
        "KOB1.columns = KOB1.columns.str.replace('[^A-Za-z_0-9]+', '', regex=True)"
      ],
      "metadata": {
        "id": "tYwb6xwXK9ZB"
      },
      "execution_count": 14,
      "outputs": []
    },
    {
      "cell_type": "markdown",
      "source": [
        "## ETL IW39"
      ],
      "metadata": {
        "id": "dzbW0wruLAZ_"
      }
    },
    {
      "cell_type": "code",
      "source": [
        "path = path_IW39\n",
        "IW39 = pd.read_excel(path)\n",
        "IW39.columns = map(str.upper, IW39.columns)\n",
        "IW39 = KSB1.add_prefix('CPV3_')\n",
        "IW39.columns = IW39.columns.str.replace(' ', '_')\n",
        "IW39.columns = IW39.columns.str.replace('[^A-Za-z_0-9]+', '', regex=True)"
      ],
      "metadata": {
        "id": "wJ-aoCADLC2g"
      },
      "execution_count": 15,
      "outputs": []
    },
    {
      "cell_type": "markdown",
      "source": [
        "## Definir base\n",
        "###### Definida com a criação de uma view unificada entre KOB1 e KSB1"
      ],
      "metadata": {
        "id": "M6lHhpUsLFkw"
      }
    },
    {
      "cell_type": "code",
      "source": [
        ""
      ],
      "metadata": {
        "id": "6lo7t9xgLJKT"
      },
      "execution_count": 15,
      "outputs": []
    }
  ]
}